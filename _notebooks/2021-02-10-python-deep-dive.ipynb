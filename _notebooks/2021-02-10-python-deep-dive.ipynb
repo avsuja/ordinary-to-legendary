{
 "metadata": {
  "language_info": {
   "codemirror_mode": {
    "name": "ipython",
    "version": 3
   },
   "file_extension": ".py",
   "mimetype": "text/x-python",
   "name": "python",
   "nbconvert_exporter": "python",
   "pygments_lexer": "ipython3",
   "version": "3.6.4-final"
  },
  "orig_nbformat": 2,
  "kernelspec": {
   "name": "python3",
   "display_name": "Python 3",
   "language": "python"
  }
 },
 "nbformat": 4,
 "nbformat_minor": 2,
 "cells": [
  {
   "source": [
    "# Python Deep Dive \n",
    "> Learning special concepts like closures, itertools, *args/**kwargs, decorators and property. \n",
    "\n",
    "- toc: false \n",
    "- badges: true\n",
    "- comments: false\n",
    "- categories: [jupyter, python]\n",
    "- author: Venkataramani, Suja"
   ],
   "cell_type": "markdown",
   "metadata": {}
  },
  {
   "source": [
    "### 1. Closures\n",
    "\n",
    "Closure is simply a method with an added environment variable. Closure provides data abstraction and object oriented coding without the use of a class. To implement cloure:  \n",
    "\n",
    "1. A function should be embedded within another function\n",
    "2. The outer function must return the inner function  \n",
    "3. The inner function must use the outer function variable \n",
    "\n",
    "If the implementation gets extensive with multiple methods and input parameters, it might be worth creating a class. Closure is a halfway house to class - a replacement for classes with a single method class and variable. "
   ],
   "cell_type": "markdown",
   "metadata": {}
  },
  {
   "cell_type": "code",
   "execution_count": 23,
   "metadata": {},
   "outputs": [],
   "source": [
    "def outer_func(power): \n",
    "    def inner_func(number): \n",
    "        return number ** power # Inner function uses outer function variable \"power\". \n",
    "    return inner_func"
   ]
  },
  {
   "cell_type": "code",
   "execution_count": 24,
   "metadata": {},
   "outputs": [
    {
     "output_type": "stream",
     "name": "stdout",
     "text": [
      "25\n125\n"
     ]
    }
   ],
   "source": [
    "# Call outer function with power 2.\n",
    "func_2 = outer_func(2)\n",
    "print(func_2(5))\n",
    "\n",
    "# Call outer function with power 3.\n",
    "func_3 = outer_func(3)\n",
    "print(func_3(5))"
   ]
  },
  {
   "cell_type": "code",
   "execution_count": 26,
   "metadata": {},
   "outputs": [
    {
     "output_type": "stream",
     "name": "stdout",
     "text": [
      "None\n(<cell at 0x000002AAA0204B28: int object at 0x0000000074F46E00>,)\n2\n"
     ]
    }
   ],
   "source": [
    "# All functions have an attribute called __closure__. \n",
    "print(outer_func.__closure__) # Outer function returns none.\n",
    "print(func_2.__closure__) # Inner function returns a cell array.\n",
    "print(func_2.__closure__[0].cell_contents) # Returns the method input variable value of the closure function."
   ]
  },
  {
   "source": [
    "### 2. Itertools\n",
    "\n",
    "Iteration module with many useful functions such as permutation, combination, filter, etc.\n"
   ],
   "cell_type": "markdown",
   "metadata": {}
  },
  {
   "cell_type": "code",
   "execution_count": 1,
   "metadata": {},
   "outputs": [],
   "source": [
    "import itertools"
   ]
  },
  {
   "cell_type": "code",
   "execution_count": 7,
   "metadata": {},
   "outputs": [
    {
     "output_type": "stream",
     "name": "stdout",
     "text": [
      "1\n3\n6\n10\n"
     ]
    }
   ],
   "source": [
    "values = [1, 2, 3, 4]\n",
    "# Returns 1, 1+2, 1+2+3, etc.\n",
    "for item in itertools.accumulate(values):\n",
    "    print(item)"
   ]
  },
  {
   "cell_type": "code",
   "execution_count": 8,
   "metadata": {},
   "outputs": [
    {
     "output_type": "stream",
     "name": "stdout",
     "text": [
      "(1, 2, 3)\n(1, 2, 4)\n(1, 3, 4)\n(2, 3, 4)\n"
     ]
    }
   ],
   "source": [
    "# Combines the data in sets of 3, no duplicates like in permutations.\n",
    "for item in itertools.combinations(values, 3):\n",
    "    print(item)"
   ]
  },
  {
   "cell_type": "code",
   "execution_count": 9,
   "metadata": {},
   "outputs": [
    {
     "output_type": "stream",
     "name": "stdout",
     "text": [
      "(1, 2, 3)\n(1, 2, 4)\n(1, 3, 2)\n(1, 3, 4)\n(1, 4, 2)\n(1, 4, 3)\n(2, 1, 3)\n(2, 1, 4)\n(2, 3, 1)\n(2, 3, 4)\n(2, 4, 1)\n(2, 4, 3)\n(3, 1, 2)\n(3, 1, 4)\n(3, 2, 1)\n(3, 2, 4)\n(3, 4, 1)\n(3, 4, 2)\n(4, 1, 2)\n(4, 1, 3)\n(4, 2, 1)\n(4, 2, 3)\n(4, 3, 1)\n(4, 3, 2)\n"
     ]
    }
   ],
   "source": [
    "# Combines data in sets of 3, in all possible combinations.\n",
    "for item in itertools.permutations(values, 3):\n",
    "    print(item)"
   ]
  },
  {
   "cell_type": "code",
   "execution_count": 10,
   "metadata": {},
   "outputs": [
    {
     "output_type": "stream",
     "name": "stdout",
     "text": [
      "2\n3\n4\n"
     ]
    }
   ],
   "source": [
    "# Filter with a condition, drops while x < 2.\n",
    "for item in itertools.dropwhile(lambda x: x<2, values):\n",
    "    print(item)"
   ]
  },
  {
   "cell_type": "code",
   "execution_count": 14,
   "metadata": {},
   "outputs": [
    {
     "output_type": "stream",
     "name": "stdout",
     "text": [
      "Iteration\n1\n2\n3\n4\nIteration\n1\n2\n3\n4\nIteration\n1\n2\n3\n4\n"
     ]
    }
   ],
   "source": [
    "# Creates 3 iterations of the list.\n",
    "for item in itertools.tee(values, 3):\n",
    "    print(\"Iteration\")\n",
    "    for it in item:\n",
    "        print(it)"
   ]
  },
  {
   "cell_type": "code",
   "execution_count": 17,
   "metadata": {},
   "outputs": [
    {
     "output_type": "stream",
     "name": "stdout",
     "text": [
      "(1, 'a')\n(2, 'b')\n"
     ]
    }
   ],
   "source": [
    "# This is nto a itertools function. Combines the first item in first list to first item in second list, second to second, etc. It stops when one of the lists runs out of values.\n",
    "for item in zip(values, ['a', 'b']):\n",
    "    print(item)"
   ]
  },
  {
   "cell_type": "code",
   "execution_count": 18,
   "metadata": {},
   "outputs": [
    {
     "output_type": "stream",
     "name": "stdout",
     "text": [
      "(1, 'a')\n(2, 'b')\n(3, None)\n(4, None)\n"
     ]
    }
   ],
   "source": [
    "# This is like zip, except it continues combining with none when one of the lists runs out of values.\n",
    "for item in itertools.zip_longest(values, ['a', 'b']):\n",
    "    print(item)"
   ]
  },
  {
   "source": [
    "### 3. *args and **kwargs\n",
    "\n",
    "*args is used to unpack a set of values to a tuple. These are often used as function arguments where you can send an arbitrary number of arguments.    \n",
    "\n",
    "**kwargs is used to unpack a named set of values to a dictionary. When used as a function argument, you can send any number of named arguments to the function for it to unpack and use inside.\n"
   ],
   "cell_type": "markdown",
   "metadata": {}
  },
  {
   "cell_type": "code",
   "execution_count": 32,
   "metadata": {},
   "outputs": [],
   "source": [
    "# *args - accepts any number of positional arguments.\n",
    "def test_args(*args):\n",
    "    total = 0\n",
    "    # The arguments are unpacked into a tuple.\n",
    "    for x in args:\n",
    "        total += x;\n",
    "    print(total)"
   ]
  },
  {
   "cell_type": "code",
   "execution_count": 15,
   "metadata": {},
   "outputs": [
    {
     "output_type": "stream",
     "name": "stdout",
     "text": [
      "24\n"
     ]
    }
   ],
   "source": [
    "# Test with 3 arguments.\n",
    "test_args(5, 9, 10)"
   ]
  },
  {
   "cell_type": "code",
   "execution_count": 17,
   "metadata": {},
   "outputs": [
    {
     "output_type": "stream",
     "name": "stdout",
     "text": [
      "150\n"
     ]
    }
   ],
   "source": [
    "# Test with 4 arguments.\n",
    "test_args(10, 20, 30, 40, 50)"
   ]
  },
  {
   "cell_type": "code",
   "execution_count": 24,
   "metadata": {},
   "outputs": [],
   "source": [
    "# Create 2 lists.\n",
    "list1 = [2, 3]\n",
    "list2 = [4, 5]"
   ]
  },
  {
   "cell_type": "code",
   "execution_count": 25,
   "metadata": {},
   "outputs": [
    {
     "output_type": "stream",
     "name": "stdout",
     "text": [
      "[4, 5]\n"
     ]
    }
   ],
   "source": [
    "# Print the list without unpacking - prints a list.\n",
    "print(list2)"
   ]
  },
  {
   "cell_type": "code",
   "execution_count": 26,
   "metadata": {},
   "outputs": [
    {
     "output_type": "stream",
     "name": "stdout",
     "text": [
      "4 5\n"
     ]
    }
   ],
   "source": [
    "# Print the list with unpacking - prints the values in the list.\n",
    "print(*list2)"
   ]
  },
  {
   "cell_type": "code",
   "execution_count": 28,
   "metadata": {},
   "outputs": [
    {
     "output_type": "stream",
     "name": "stdout",
     "text": [
      "14\n"
     ]
    }
   ],
   "source": [
    "# Unpack list 1 and 2 and send it to *args\n",
    "test_args(*list1, *list2)"
   ]
  },
  {
   "cell_type": "code",
   "execution_count": 31,
   "metadata": {},
   "outputs": [
    {
     "output_type": "stream",
     "name": "stdout",
     "text": [
      "[2, 3, 4, 5]\n"
     ]
    }
   ],
   "source": [
    "# Can be used to merge two lists.\n",
    "list3 = [*list1, *list2]\n",
    "print(list3)"
   ]
  },
  {
   "cell_type": "code",
   "execution_count": 41,
   "metadata": {},
   "outputs": [],
   "source": [
    "# To send any number of named arguments we use **kwargs.\n",
    "def test_kwargs(**kwargs):\n",
    "    # The arguments are unpacked into a dictionary.\n",
    "    for x in kwargs:\n",
    "        print(\"{}-{}\".format(x, kwargs[x]))\n",
    "        "
   ]
  },
  {
   "cell_type": "code",
   "execution_count": 43,
   "metadata": {},
   "outputs": [
    {
     "output_type": "stream",
     "name": "stdout",
     "text": [
      "a-10\nb-20\n"
     ]
    }
   ],
   "source": [
    "# Send two named parameters.\n",
    "test_kwargs(a=10, b=20)"
   ]
  },
  {
   "cell_type": "code",
   "execution_count": 42,
   "metadata": {},
   "outputs": [
    {
     "output_type": "stream",
     "name": "stdout",
     "text": [
      "arg1-aaaa\narg2-3\narg3-xx\n"
     ]
    }
   ],
   "source": [
    "# Send 3 named parameters.\n",
    "test_kwargs(arg1='aaaa', arg2=3, arg3='xx')"
   ]
  },
  {
   "cell_type": "code",
   "execution_count": 47,
   "metadata": {},
   "outputs": [],
   "source": [
    "# Chain positional args followed by named args.\n",
    "def test_args_kwargs(*args, **kwargs):\n",
    "    for x in args:\n",
    "        print(x)\n",
    "    for x in kwargs.values():\n",
    "        print(x)"
   ]
  },
  {
   "cell_type": "code",
   "execution_count": 48,
   "metadata": {},
   "outputs": [
    {
     "output_type": "stream",
     "name": "stdout",
     "text": [
      "2\n3\n4\n55\n999\n"
     ]
    }
   ],
   "source": [
    "# Test by sending both types of args.\n",
    "test_args_kwargs(2, 3, 4, b=55, c=999)"
   ]
  },
  {
   "source": [
    "### 4. Decorators\n",
    "\n",
    "Decorators are functions that take another function as input, adds to the function in some way. this makes use of closure and the ability to pass function as an argument just like another variable. A function can have an number of decorators added to it, same decorator can be added to multiple functions."
   ],
   "cell_type": "markdown",
   "metadata": {}
  },
  {
   "cell_type": "code",
   "execution_count": 19,
   "metadata": {},
   "outputs": [],
   "source": [
    "# Takes any function\n",
    "def add_border(func):\n",
    "    # The function can have any number of arguments, does not matter.\n",
    "    def inner_func(*args, **kwargs):\n",
    "        print('------')\n",
    "        # Call the passed function with arguments.\n",
    "        func(*args, **kwargs)\n",
    "        print('------')\n",
    "    return inner_func \n",
    "\n",
    "# Add the decorator to the function.\n",
    "@add_border\n",
    "def sum(*args, **kwargs):\n",
    "    total = 0\n",
    "    for x in args:\n",
    "        total += x\n",
    "    print(total)\n",
    "\n",
    "@add_border\n",
    "def power(a, b):\n",
    "    print(a ** b)"
   ]
  },
  {
   "cell_type": "code",
   "execution_count": 18,
   "metadata": {},
   "outputs": [
    {
     "output_type": "stream",
     "name": "stdout",
     "text": [
      "------\n70\n------\n"
     ]
    }
   ],
   "source": [
    "sum(10, 20, 40)"
   ]
  },
  {
   "cell_type": "code",
   "execution_count": 20,
   "metadata": {},
   "outputs": [
    {
     "output_type": "stream",
     "name": "stdout",
     "text": [
      "------\n9\n------\n"
     ]
    }
   ],
   "source": [
    "power(3, 2)"
   ]
  },
  {
   "source": [
    "### 5. Property - Inbuilt function and Decorator\n",
    "\n",
    "Inside a class, any variable defined can be accessed and set by instantiating the class and access the values the object. But if there are any special validations/conditions we want add while getting or setting, we could right methods to do these and set them as property using this function.\n",
    "\n",
    "variable_name = property(fget, fset, fdel, doc)\n",
    "\n",
    "where   variable_name: name of the property  \n",
    "        fget: getter function  \n",
    "        fset: setter function  \n",
    "        fdel: delete function  \n",
    "        doc: comment  "
   ],
   "cell_type": "markdown",
   "metadata": {}
  },
  {
   "cell_type": "code",
   "execution_count": 21,
   "metadata": {},
   "outputs": [],
   "source": [
    "# Class with no special getters or setters.\n",
    "class student:\n",
    "    def __init__(self, name, age):\n",
    "        self.name = name\n",
    "        self.age = age"
   ]
  },
  {
   "cell_type": "code",
   "execution_count": 22,
   "metadata": {},
   "outputs": [],
   "source": [
    "a_student = student(\"test1\", 20)"
   ]
  },
  {
   "cell_type": "code",
   "execution_count": 23,
   "metadata": {},
   "outputs": [
    {
     "output_type": "stream",
     "name": "stdout",
     "text": [
      "test1 20\n"
     ]
    }
   ],
   "source": [
    "print(a_student.name, a_student.age)"
   ]
  },
  {
   "cell_type": "code",
   "execution_count": 24,
   "metadata": {},
   "outputs": [],
   "source": [
    "a_student.name = \"test2\""
   ]
  },
  {
   "cell_type": "code",
   "execution_count": 26,
   "metadata": {},
   "outputs": [
    {
     "output_type": "stream",
     "name": "stdout",
     "text": [
      "test2 20\n"
     ]
    }
   ],
   "source": [
    "print(a_student.name, a_student.age)"
   ]
  },
  {
   "cell_type": "code",
   "execution_count": 29,
   "metadata": {},
   "outputs": [],
   "source": [
    "# Class with getter and setter implemented with property function.\n",
    "class student_new:\n",
    "    def __init__(self, name=None):\n",
    "        # This calls the setter.\n",
    "        self.name = name\n",
    "\n",
    "    def get_name(self):\n",
    "        # Convention is to use an internal variable - _variable.\n",
    "        # Not using another variable will call the same function in a recursion and cause error.\n",
    "        return self._name;\n",
    "\n",
    "    def set_name(self, name):\n",
    "        if name != None:\n",
    "            self._name = name + ' huh'     \n",
    "\n",
    "    name = property(get_name, set_name)"
   ]
  },
  {
   "cell_type": "code",
   "execution_count": 30,
   "metadata": {},
   "outputs": [],
   "source": [
    "b_student = student_new(\"test2\")"
   ]
  },
  {
   "cell_type": "code",
   "execution_count": 72,
   "metadata": {},
   "outputs": [
    {
     "output_type": "stream",
     "name": "stdout",
     "text": [
      "test2 huh\n"
     ]
    }
   ],
   "source": [
    "print(b_student.name)"
   ]
  },
  {
   "cell_type": "code",
   "execution_count": 75,
   "metadata": {},
   "outputs": [],
   "source": [
    "b_student.name = \"hello\""
   ]
  },
  {
   "cell_type": "code",
   "execution_count": 77,
   "metadata": {},
   "outputs": [
    {
     "output_type": "execute_result",
     "data": {
      "text/plain": [
       "'hello huh'"
      ]
     },
     "metadata": {},
     "execution_count": 77
    }
   ],
   "source": [
    "b_student.name"
   ]
  },
  {
   "cell_type": "code",
   "execution_count": 31,
   "metadata": {},
   "outputs": [],
   "source": [
    "# Class where property in impmemented with @property decorator.\n",
    "class student_nextgen:\n",
    "    def __init__(self, name=None):\n",
    "        self.name = name\n",
    "\n",
    "    @property\n",
    "    def name(self):\n",
    "        return self._name;\n",
    "\n",
    "    @name.setter\n",
    "    def name(self, name):\n",
    "        if name != None:\n",
    "            self._name = name + ' huh'     "
   ]
  },
  {
   "cell_type": "code",
   "execution_count": 27,
   "metadata": {},
   "outputs": [],
   "source": [
    "c_student = student_nextgen(name='what')"
   ]
  },
  {
   "cell_type": "code",
   "execution_count": 28,
   "metadata": {},
   "outputs": [
    {
     "output_type": "execute_result",
     "data": {
      "text/plain": [
       "'what huh'"
      ]
     },
     "metadata": {},
     "execution_count": 28
    }
   ],
   "source": [
    "c_student.name"
   ]
  },
  {
   "cell_type": "code",
   "execution_count": 18,
   "metadata": {},
   "outputs": [
    {
     "output_type": "execute_result",
     "data": {
      "text/plain": [
       "'hello huh'"
      ]
     },
     "metadata": {},
     "execution_count": 18
    }
   ],
   "source": [
    "d_student = student_nextgen()\n",
    "d_student.name = 'hello'\n",
    "d_student.name"
   ]
  }
 ]
}